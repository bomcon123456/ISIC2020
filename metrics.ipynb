{
 "cells": [
  {
   "cell_type": "code",
   "execution_count": 3,
   "metadata": {},
   "outputs": [
    {
     "name": "stdout",
     "output_type": "stream",
     "text": [
      "The autoreload extension is already loaded. To reload it, use:\n",
      "  %reload_ext autoreload\n"
     ]
    }
   ],
   "source": [
    "%load_ext autoreload\n",
    "%autoreload 2\n",
    "\n",
    "%matplotlib inline"
   ]
  },
  {
   "cell_type": "code",
   "execution_count": 12,
   "metadata": {},
   "outputs": [],
   "source": [
    "#export\n",
    "import torch\n",
    "from torch import tensor"
   ]
  },
  {
   "cell_type": "code",
   "execution_count": 13,
   "metadata": {},
   "outputs": [],
   "source": [
    "#export\n",
    "from exp.nb_utils import snakify_class_name"
   ]
  },
  {
   "cell_type": "code",
   "execution_count": 14,
   "metadata": {},
   "outputs": [],
   "source": [
    "#export\n",
    "class Metric:\n",
    "    def reset(self): pass\n",
    "    def accumulate(self, learner): pass\n",
    "\n",
    "    @property\n",
    "    def value(self): raise NotImplementedError\n",
    "\n",
    "    @property\n",
    "    def name(self): return snakify_class_name(self, \"Metric\")"
   ]
  },
  {
   "cell_type": "code",
   "execution_count": 15,
   "metadata": {},
   "outputs": [],
   "source": [
    "#export\n",
    "class AvgMetric(Metric):\n",
    "    def __init__(self, func):\n",
    "        self.func = func\n",
    "        self.reset()\n",
    "\n",
    "    def reset(self):\n",
    "        self.total = tensor(0.)\n",
    "        self.count = 0\n",
    "\n",
    "    def accumulate(self, learner):\n",
    "        bs = learner.xb.shape[0]\n",
    "        self.total += self.func(learner.pred, learner.yb).cpu() * bs\n",
    "        self.count += bs\n",
    "\n",
    "    @property\n",
    "    def value(self):\n",
    "        return self.total / self.count if self.count else None\n",
    "\n",
    "    @property\n",
    "    def name(self):\n",
    "        return self.func.__name__"
   ]
  },
  {
   "cell_type": "code",
   "execution_count": 22,
   "metadata": {},
   "outputs": [],
   "source": [
    "#export\n",
    "class AvgLoss(Metric):\n",
    "    def reset(self):\n",
    "        self.total = tensor(0.)\n",
    "        self.count = 0\n",
    "\n",
    "    def accumulate(self, learner):\n",
    "        bs = learner.xb.shape[0]\n",
    "        self.total = learner.loss.cpu().mean() * bs\n",
    "        self.count += bs\n",
    "\n",
    "    @property\n",
    "    def value(self):\n",
    "        return self.total / self.count if self.count else None\n",
    "\n",
    "    @property\n",
    "    def name(self): return \"loss\""
   ]
  },
  {
   "cell_type": "code",
   "execution_count": 23,
   "metadata": {},
   "outputs": [],
   "source": [
    "#export\n",
    "class AvgSmoothLoss(Metric):\n",
    "    def __init__(self, beta=0.98):\n",
    "        self.beta = beta\n",
    "\n",
    "    def reset(self):\n",
    "        self.val = tensor(0.)\n",
    "        self.count = 0\n",
    "\n",
    "    def accumulate(self, learner):\n",
    "        self.count += 1\n",
    "        self.val = torch.lerp(learner.loss.cpu().mean(),\n",
    "                              self.val,\n",
    "                              self.beta)\n",
    "\n",
    "    @property\n",
    "    def value(self):\n",
    "        return self.val/(1-self.beta**self.count)\n",
    "\n",
    "    @property\n",
    "    def name(self): return \"smooth_loss\""
   ]
  },
  {
   "cell_type": "code",
   "execution_count": 4,
   "metadata": {},
   "outputs": [
    {
     "name": "stdout",
     "output_type": "stream",
     "text": [
      "Converted metrics.ipynb to exp/nb_metrics.py\n"
     ]
    }
   ],
   "source": [
    "!python notebook2script.py metrics.ipynb"
   ]
  },
  {
   "cell_type": "code",
   "execution_count": null,
   "metadata": {},
   "outputs": [],
   "source": []
  }
 ],
 "metadata": {
  "kernelspec": {
   "display_name": "Python 3",
   "language": "python",
   "name": "python3"
  },
  "language_info": {
   "codemirror_mode": {
    "name": "ipython",
    "version": 3
   },
   "file_extension": ".py",
   "mimetype": "text/x-python",
   "name": "python",
   "nbconvert_exporter": "python",
   "pygments_lexer": "ipython3",
   "version": "3.6.9"
  }
 },
 "nbformat": 4,
 "nbformat_minor": 4
}
