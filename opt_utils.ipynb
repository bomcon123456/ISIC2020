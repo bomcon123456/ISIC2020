{
 "cells": [
  {
   "cell_type": "code",
   "execution_count": 1,
   "metadata": {},
   "outputs": [],
   "source": [
    "#export\n",
    "import numpy as np\n",
    "\n",
    "from exp.nb_utils import listify"
   ]
  },
  {
   "cell_type": "code",
   "execution_count": 2,
   "metadata": {},
   "outputs": [],
   "source": [
    "#export\n",
    "def even_mults(start, stop, n):\n",
    "    \"Build log-stepped array from `start` to `stop` in `n` steps.\"\n",
    "    if n == 1:\n",
    "        return stop\n",
    "    mult = stop/start\n",
    "    step = mult**(1/(n-1))\n",
    "    return np.array([start*(step**i) for i in range(n)])\n",
    "\n",
    "\n",
    "def set_hyper(self, opt, key, val):\n",
    "    if isinstance(val, slice):\n",
    "        if val.start:\n",
    "            val = even_mults(val.start, val.stop, len(opt.param_groups))\n",
    "        else:\n",
    "            val = [val.stop/10] * (len(opt.param_groups) - 1) + (val.stop)\n",
    "        vs = listify(val)\n",
    "        if len(vs) == 1:\n",
    "            vs = vs * len(opt.param_groups)\n",
    "        assert len(vs) == len(opt.param_groups), f\"Trying to set {len(vs)} values for {n} but there are {len(opt.param_groups)} parameter groups.\"\n",
    "        for v, p in zip(vs, self.opt.param_groups):\n",
    "            p[key] = v"
   ]
  },
  {
   "cell_type": "code",
   "execution_count": 10,
   "metadata": {},
   "outputs": [
    {
     "name": "stdout",
     "output_type": "stream",
     "text": [
      "Converted opt_utils.ipynb to exp\\nb_opt_utils.py\n"
     ]
    }
   ],
   "source": [
    "!python notebook2script.py opt_utils.ipynb"
   ]
  },
  {
   "cell_type": "code",
   "execution_count": null,
   "metadata": {},
   "outputs": [],
   "source": []
  }
 ],
 "metadata": {
  "kernelspec": {
   "display_name": "Python 3",
   "language": "python",
   "name": "python3"
  },
  "language_info": {
   "codemirror_mode": {
    "name": "ipython",
    "version": 3
   },
   "file_extension": ".py",
   "mimetype": "text/x-python",
   "name": "python",
   "nbconvert_exporter": "python",
   "pygments_lexer": "ipython3",
   "version": "3.7.7"
  }
 },
 "nbformat": 4,
 "nbformat_minor": 4
}
