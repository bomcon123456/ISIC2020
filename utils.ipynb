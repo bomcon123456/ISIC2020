{
 "cells": [
  {
   "cell_type": "code",
   "execution_count": 2,
   "metadata": {},
   "outputs": [],
   "source": [
    "#export\n",
    "def listify(x):\n",
    "    if o is None: return []\n",
    "    if isinstance(o, list): return o\n",
    "    if isinstance(o, str): return o\n",
    "    if isinstance(o, Iterable): return list(o)\n",
    "    return [0]"
   ]
  },
  {
   "cell_type": "code",
   "execution_count": 4,
   "metadata": {},
   "outputs": [
    {
     "name": "stdout",
     "output_type": "stream",
     "text": [
      "Converted utils.ipynb to exp/nb_utils.py\n"
     ]
    }
   ],
   "source": [
    "!python notebook2script.py utils.ipynb"
   ]
  },
  {
   "cell_type": "code",
   "execution_count": 3,
   "metadata": {},
   "outputs": [
    {
     "name": "stdout",
     "output_type": "stream",
     "text": [
      "Collecting fire\n",
      "  Downloading fire-0.3.1.tar.gz (81 kB)\n",
      "\u001b[?25l\r",
      "\u001b[K     |████                            | 10 kB 43.3 MB/s eta 0:00:01\r",
      "\u001b[K     |████████                        | 20 kB 2.2 MB/s eta 0:00:01\r",
      "\u001b[K     |████████████▏                   | 30 kB 2.9 MB/s eta 0:00:01\r",
      "\u001b[K     |████████████████▏               | 40 kB 3.1 MB/s eta 0:00:01\r",
      "\u001b[K     |████████████████████▏           | 51 kB 2.5 MB/s eta 0:00:01\r",
      "\u001b[K     |████████████████████████▎       | 61 kB 2.6 MB/s eta 0:00:01\r",
      "\u001b[K     |████████████████████████████▎   | 71 kB 2.9 MB/s eta 0:00:01\r",
      "\u001b[K     |████████████████████████████████| 81 kB 2.5 MB/s \n",
      "\u001b[?25hRequirement already satisfied: six in /usr/local/lib/python3.6/dist-packages (from fire) (1.15.0)\n",
      "Requirement already satisfied: termcolor in /usr/local/lib/python3.6/dist-packages (from fire) (1.1.0)\n",
      "Building wheels for collected packages: fire\n",
      "  Building wheel for fire (setup.py) ... \u001b[?25l\u001b[?25hdone\n",
      "  Created wheel for fire: filename=fire-0.3.1-py2.py3-none-any.whl size=111005 sha256=19b9e9b42e55cda999cc43b87e751ba1c7b1b2e46aadb2b933327b5f060c93b9\n",
      "  Stored in directory: /root/.cache/pip/wheels/3e/38/8f/e5bd4465e4b72c8e4d1530ac46e1a42e1d2495f8c93242d5f1\n",
      "Successfully built fire\n",
      "Installing collected packages: fire\n",
      "Successfully installed fire-0.3.1\n"
     ]
    }
   ],
   "source": [
    "!pip install fire"
   ]
  },
  {
   "cell_type": "code",
   "execution_count": null,
   "metadata": {},
   "outputs": [],
   "source": []
  }
 ],
 "metadata": {
  "kernelspec": {
   "display_name": "Python 3",
   "language": "python",
   "name": "python3"
  },
  "language_info": {
   "codemirror_mode": {
    "name": "ipython",
    "version": 3
   },
   "file_extension": ".py",
   "mimetype": "text/x-python",
   "name": "python",
   "nbconvert_exporter": "python",
   "pygments_lexer": "ipython3",
   "version": "3.6.9"
  }
 },
 "nbformat": 4,
 "nbformat_minor": 4
}
