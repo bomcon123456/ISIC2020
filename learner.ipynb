{
 "cells": [
  {
   "cell_type": "code",
   "execution_count": 1,
   "metadata": {},
   "outputs": [],
   "source": [
    "import torch\n",
    "from torch import tensor\n",
    "import torch.nn as nn\n",
    "import torch.optim as optim\n",
    "import torch.nn.functional as F"
   ]
  },
  {
   "cell_type": "code",
   "execution_count": 2,
   "metadata": {},
   "outputs": [],
   "source": [
    "from exp.nb_callbacks import *\n",
    "from exp.nb_utils import listify"
   ]
  },
  {
   "cell_type": "code",
   "execution_count": 96,
   "metadata": {},
   "outputs": [],
   "source": [
    "#export\n",
    "class Learner:\n",
    "    _default_cbs = [TrainEvalCallback]\n",
    "    \n",
    "    ALL_CBS = {\n",
    "    'begin_fit', 'begin_epoch', 'begin_batch', 'begin_validate'\n",
    "    'after_pred', 'after_loss', 'after_backward', 'after_step',\n",
    "    'after_batch', 'after_epoch', 'after_fit',\n",
    "    'after_cancel_batch', 'after_cancel_epoch', 'after_cancel_train'}\n",
    "\n",
    "    \n",
    "    def __init__(self, model, data, loss_func, opt_func, lr=1e-2, cbs=None, cb_funcs=None):\n",
    "        self.model, self.data, self.loss_func, self.opt_func, self.lr = model, data, loss_func, opt_func, lr\n",
    "        self.opt = None\n",
    "        self.cbs = []\n",
    "        self.add_cbs([cb() for cb in self._default_cbs])\n",
    "        self.add_cbs(cbs)\n",
    "        self.add_cbs([cbf() for cbf in listify(cb_funcs)])\n",
    "        \n",
    "        self.logger = print\n",
    "        \n",
    "    def set_logger(self, logger):    \n",
    "        self.logger = logger\n",
    "        \n",
    "    def add_cb(self, cb):\n",
    "        cb.set_learner(self)\n",
    "        setattr(self, cb.name, cb)\n",
    "        self.cbs.append(cb)\n",
    "        \n",
    "    def add_cbs(self, cbs):\n",
    "        for cb in listify(cbs): self.add_cb(cb)\n",
    "        \n",
    "    def remove_cbs(self, cbs):\n",
    "        for cb in listify(cbs): self.cbs.remove(cb)\n",
    "    \n",
    "    def get_params(self):\n",
    "        return self.model.parameters()\n",
    "\n",
    "    def _do_begin_fit(self, epochs):\n",
    "        self.epochs = epochs\n",
    "        self.loss = tensor(0.)\n",
    "        self('begin_fit')\n",
    "        \n",
    "    def _do_begin_epoch(self, epoch):\n",
    "        self.epoch = epoch\n",
    "        self.dl = self.data.train_dl\n",
    "        return self('begin_epoch')\n",
    "    \n",
    "    def one_batch(self, i, xb, yb):\n",
    "        try:\n",
    "            self.iter = i\n",
    "            self.xb, self.yb = xb, yb;                              self('begin_batch')\n",
    "            self.pred = self.model(self.xb);                        self('after_pred')\n",
    "            self.loss = self.loss_func(self.pred, self.yb);         self('after_loss')\n",
    "            # If validate\n",
    "            if not self.in_train: return\n",
    "            self.loss.backward();                                   self('after_backward')\n",
    "            self.opt.step();                                        self('after_step')\n",
    "            self.opt.zero_grad();\n",
    "        except CancelBatchException:                                self('after_cancel_batch')\n",
    "        finally:                                                    self('after_batch')\n",
    "                                \n",
    "    \n",
    "    def all_batches(self):\n",
    "        self.iters = len(self.dl)\n",
    "        try:\n",
    "            for i, (xb, yb) in enumerate(self.dl): \n",
    "                self.one_batch(i, xb, yb);\n",
    "        except CancelEpochException: self('after_cancel_epoch')\n",
    "    \n",
    "    def _end_cleanup(self):\n",
    "        self.dl,self.xb,self.yb,self.pred,self.loss = None,(None,),(None,),None,None\n",
    "\n",
    "    \n",
    "    def fit(self, epochs, cbs=None, reset_opt=False):\n",
    "        self.add_cbs(cbs)\n",
    "        if reset_opt or not self.opt: \n",
    "            self.opt = self.opt_func(self.get_params(), lr=self.lr)\n",
    "            \n",
    "        try:\n",
    "            self._do_begin_fit(epochs)\n",
    "            for epoch in range(epochs):\n",
    "                if not self._do_begin_epoch(epoch): \n",
    "                    print('heeee')\n",
    "                    self.all_batches()\n",
    "                \n",
    "                with torch.no_grad():\n",
    "                    self.dl = self.data.valid_dl\n",
    "                    if not self('begin_validate'): self.all_batches()\n",
    "                self('after_epoch')\n",
    "                \n",
    "        except: CancelTrainException: self('after_cancel_train')\n",
    "        finally:\n",
    "            self('after_fit')\n",
    "            self.remove_cbs(cbs)\n",
    "            self._end_cleanup()\n",
    "    \n",
    "    def __call__(self, cb_name):\n",
    "        res = False\n",
    "        assert cb_name in self.ALL_CBS\n",
    "        for cb in sorted(self.cbs, key=lambda x: x._order):\n",
    "            res = cb(cb_name) and res\n",
    "        return res"
   ]
  },
  {
   "cell_type": "markdown",
   "metadata": {},
   "source": [
    "!python notebook2script.py learner.ipynb"
   ]
  },
  {
   "cell_type": "code",
   "execution_count": 97,
   "metadata": {},
   "outputs": [],
   "source": [
    "def get_model(data, lr=0.5, nh=50):\n",
    "    m = data.train_ds[0][0].shape[0]\n",
    "    print(data.train_ds[0][0].shape)\n",
    "    model = nn.Sequential(nn.Conv2d(m,nh, 7, 2), nn.ReLU(),\n",
    "                          nn.Conv2d(nh,nh*2, 5, 2), nn.ReLU(),\n",
    "                          nn.Conv2d(nh*2,nh*2*2, 3, 2), nn.ReLU(),\n",
    "                          nn.Conv2d(nh*4,nh*8, 3, 2), nn.ReLU(),\n",
    "                          nn.AdaptiveAvgPool2d(1),\n",
    "                          nn.Flatten(), nn.Linear(400,data.c))\n",
    "    return model"
   ]
  },
  {
   "cell_type": "code",
   "execution_count": 98,
   "metadata": {
    "scrolled": true
   },
   "outputs": [],
   "source": [
    "from exp.nb_dataset import get_skin_databunch\n",
    "db = get_skin_databunch()"
   ]
  },
  {
   "cell_type": "code",
   "execution_count": 99,
   "metadata": {},
   "outputs": [
    {
     "name": "stdout",
     "output_type": "stream",
     "text": [
      "torch.Size([3, 450, 600])\n"
     ]
    }
   ],
   "source": [
    "mdl = get_model(db)"
   ]
  },
  {
   "cell_type": "code",
   "execution_count": 93,
   "metadata": {},
   "outputs": [],
   "source": [
    "def accuracy(inp, targ, axis=-1):\n",
    "    pred,targ = flatten_check(inp.argmax(dim=axis), targ)\n",
    "    return (pred == targ).float().mean()\n"
   ]
  },
  {
   "cell_type": "code",
   "execution_count": 100,
   "metadata": {},
   "outputs": [],
   "source": [
    "learner = Learner(mdl, db, F.cross_entropy, optim.SGD, cb_funcs=[LR_Find, Recorder, ProgressCallback])"
   ]
  },
  {
   "cell_type": "code",
   "execution_count": 101,
   "metadata": {},
   "outputs": [
    {
     "data": {
      "text/html": [
       "\n",
       "    <div>\n",
       "        <style>\n",
       "            /* Turns off some styling */\n",
       "            progress {\n",
       "                /* gets rid of default border in Firefox and Opera. */\n",
       "                border: none;\n",
       "                /* Needs to be in here for Safari polyfill so background images work as expected. */\n",
       "                background-size: auto;\n",
       "            }\n",
       "            .progress-bar-interrupted, .progress-bar-interrupted::-webkit-progress-bar {\n",
       "                background: #F44336;\n",
       "            }\n",
       "        </style>\n",
       "      <progress value='0' class='' max='1' style='width:300px; height:20px; vertical-align: middle;'></progress>\n",
       "      \n",
       "    </div>\n",
       "    \n"
      ],
      "text/plain": [
       "<IPython.core.display.HTML object>"
      ]
     },
     "metadata": {},
     "output_type": "display_data"
    },
    {
     "data": {
      "text/html": [],
      "text/plain": [
       "<IPython.core.display.HTML object>"
      ]
     },
     "metadata": {},
     "output_type": "display_data"
    },
    {
     "name": "stdout",
     "output_type": "stream",
     "text": [
      "heeee\n",
      "he\n",
      "heheheheh\n",
      "wtf\n"
     ]
    }
   ],
   "source": [
    "learner.fit(1)"
   ]
  },
  {
   "cell_type": "code",
   "execution_count": null,
   "metadata": {},
   "outputs": [],
   "source": []
  },
  {
   "cell_type": "code",
   "execution_count": 102,
   "metadata": {},
   "outputs": [
    {
     "data": {
      "text/plain": [
       "[tensor(0.)]"
      ]
     },
     "execution_count": 102,
     "metadata": {},
     "output_type": "execute_result"
    }
   ],
   "source": [
    "learner.recorder.losses"
   ]
  },
  {
   "cell_type": "code",
   "execution_count": null,
   "metadata": {},
   "outputs": [],
   "source": []
  }
 ],
 "metadata": {
  "kernelspec": {
   "display_name": "Python 3",
   "language": "python",
   "name": "python3"
  },
  "language_info": {
   "codemirror_mode": {
    "name": "ipython",
    "version": 3
   },
   "file_extension": ".py",
   "mimetype": "text/x-python",
   "name": "python",
   "nbconvert_exporter": "python",
   "pygments_lexer": "ipython3",
   "version": "3.6.9"
  }
 },
 "nbformat": 4,
 "nbformat_minor": 4
}
