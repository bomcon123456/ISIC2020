{
 "cells": [
  {
   "cell_type": "code",
   "execution_count": 1,
   "metadata": {},
   "outputs": [],
   "source": [
    "%load_ext autoreload\n",
    "%autoreload 2\n",
    "\n",
    "%matplotlib inline"
   ]
  },
  {
   "cell_type": "code",
   "execution_count": 2,
   "metadata": {},
   "outputs": [],
   "source": [
    "#export\n",
    "from pathlib import Path\n",
    "import collections"
   ]
  },
  {
   "cell_type": "code",
   "execution_count": 3,
   "metadata": {},
   "outputs": [],
   "source": [
    "#export\n",
    "import torch\n",
    "from torch import tensor\n",
    "import torch.nn as nn\n",
    "import torch.optim as optim\n",
    "import torch.nn.functional as F\n",
    "\n",
    "import numpy as np"
   ]
  },
  {
   "cell_type": "code",
   "execution_count": 4,
   "metadata": {},
   "outputs": [],
   "source": [
    "#export\n",
    "from exp.nb_callbacks import *\n",
    "from exp.nb_utils import listify\n",
    "from exp.nb_metrics import Metric, AvgMetric\n",
    "from exp.nb_schedules import combined_cos\n",
    "from exp.nb_opt_utils import set_hyper"
   ]
  },
  {
   "cell_type": "code",
   "execution_count": 5,
   "metadata": {},
   "outputs": [],
   "source": [
    "#export\n",
    "def make_metric(m):\n",
    "    return m if isinstance(m, Metric) else AvgMetric(m)"
   ]
  },
  {
   "cell_type": "code",
   "execution_count": 6,
   "metadata": {},
   "outputs": [],
   "source": [
    "#export\n",
    "def get_trainable_params(m):\n",
    "    \"Return all trainable parameters of `m`\"\n",
    "    return [p for p in m.parameters() if p.requires_grad]"
   ]
  },
  {
   "cell_type": "code",
   "execution_count": 38,
   "metadata": {},
   "outputs": [],
   "source": [
    "#export\n",
    "class Learner:\n",
    "    _default_cbs = [TrainEvalCallback]\n",
    "\n",
    "    ALL_CBS = {\n",
    "    'begin_fit', 'begin_epoch', 'begin_train', 'begin_batch',\n",
    "    'after_pred', 'after_loss', 'after_backward', 'after_step',\n",
    "    'after_batch', 'after_train', 'begin_validate', 'after_validate',\n",
    "    'after_epoch', 'after_fit', 'after_cancel_fit',\n",
    "    'after_cancel_batch', 'after_cancel_epoch', 'after_cancel_train', 'after_cancel_validate'}\n",
    "\n",
    "    def __init__(self, model, data, loss_func,\n",
    "                 opt_func, lr=1e-2, wd=None, moms=(0.95, 0.85, 0.95),\n",
    "                 metrics=None, cbs=None, cb_funcs=None,\n",
    "                 splitter=get_trainable_params,\n",
    "                 path=Path('.'), model_dir='models'):\n",
    "        self.model, self.data, self.loss_func = model, data, loss_func\n",
    "        self.opt_func, self.lr, self.metrics = opt_func, lr, metrics\n",
    "        self.splitter = splitter\n",
    "        self.wd, self.moms = wd, moms\n",
    "        self.path = path\n",
    "        self.model_dir = self.path / model_dir\n",
    "\n",
    "        self.opt = None\n",
    "        self.cbs = []\n",
    "        self.in_train = False\n",
    "        self.epoch = 0\n",
    "        self.epochs = 1\n",
    "        self.loss = tensor(0.)\n",
    "        self.logger = print\n",
    "\n",
    "        self.add_cbs([cb() for cb in self._default_cbs])\n",
    "        self.add_cbs(cbs)\n",
    "        self.add_cbs([cbf() for cbf in listify(cb_funcs)])\n",
    "\n",
    "    def create_opt(self):\n",
    "        self.opt = self.opt_func(self.splitter(self.model), lr=self.lr)\n",
    "\n",
    "    @property\n",
    "    def metrics(self): return self._metrics\n",
    "\n",
    "    @metrics.setter\n",
    "    def metrics(self, metrics):\n",
    "        self._metrics = list(map(make_metric, metrics))\n",
    "\n",
    "    def set_logger(self, logger):\n",
    "        self.logger = logger\n",
    "\n",
    "    def add_cb(self, cb):\n",
    "        cb.set_learner(self)\n",
    "        setattr(self, cb.name, cb)\n",
    "        self.cbs.append(cb)\n",
    "\n",
    "    def add_cbs(self, cbs):\n",
    "        for cb in listify(cbs): self.add_cb(cb)\n",
    "\n",
    "    def remove_cbs(self, cbs):\n",
    "        for cb in listify(cbs): self.cbs.remove(cb)\n",
    "\n",
    "    def get_params(self):\n",
    "        return self.model.parameters()\n",
    "\n",
    "    def _do_begin_fit(self, epochs):\n",
    "        self.epochs = epochs\n",
    "        self.loss = tensor(0.)\n",
    "        self('begin_fit')\n",
    "\n",
    "    def _do_epoch_train(self):\n",
    "        try:\n",
    "            self.dl = self.data.train_dl;                           self('begin_train')\n",
    "            self.all_batches()\n",
    "        except CancelTrainException:                                self('after_cancel_train')\n",
    "        finally:                                                    self('after_train')\n",
    "\n",
    "    def _do_epoch_validate(self):\n",
    "        try:\n",
    "            self.dl = self.data.valid_dl;                           self('begin_validate')\n",
    "            with torch.no_grad():\n",
    "                self.all_batches()\n",
    "        except CancelValidException:                                self('after_cancel_validate')\n",
    "        finally:                                                    self('after_validate')\n",
    "\n",
    "    def one_batch(self, i, xb, yb):\n",
    "        self.iter = i\n",
    "        try:\n",
    "            self.xb, self.yb = xb, yb;                              self('begin_batch')\n",
    "            self.pred = self.model(self.xb);                        self('after_pred')\n",
    "            self.loss = self.loss_func(self.pred, self.yb);         self('after_loss')\n",
    "            # If validate\n",
    "            if not self.in_train: return\n",
    "            self.loss.backward();                                   self('after_backward')\n",
    "            self.opt.step();                                        self('after_step')\n",
    "            self.opt.zero_grad();\n",
    "        except CancelBatchException:                                self('after_cancel_batch')\n",
    "        finally:                                                    self('after_batch')\n",
    "\n",
    "    def all_batches(self):\n",
    "        self.iters = len(self.dl)\n",
    "        for i, (xb, yb) in enumerate(self.dl):\n",
    "            self.one_batch(i, xb, yb);\n",
    "\n",
    "    def _end_cleanup(self):\n",
    "        self.dl, self.xb, self.yb, self.pred, self.loss = None, (None,), (None,), None, None\n",
    "\n",
    "    def fit(self, epochs, lr=None, wd=None, cbs=None, reset_opt=False):\n",
    "        self.add_cbs(cbs)\n",
    "\n",
    "        if reset_opt or not self.opt:\n",
    "            self.create_opt()\n",
    "\n",
    "        if lr is None:\n",
    "            lr = self.lr\n",
    "        if wd is None:\n",
    "            wd = self.wd\n",
    "        set_hyper(self.opt, 'lr', lr)\n",
    "        if wd is not None:\n",
    "            set_hyper(self.opt, 'weight_decay', wd)\n",
    "\n",
    "        try:\n",
    "            self._do_begin_fit(epochs)\n",
    "            for epoch in range(epochs):\n",
    "                try:\n",
    "                    self.epoch = epoch;                             self('begin_epoch')\n",
    "                    self._do_epoch_train()\n",
    "                    self._do_epoch_validate()\n",
    "                except CancelEpochException:                        self('after_cancel_epoch')\n",
    "                finally:                                            self('after_epoch')\n",
    "        except CancelFitException:                                  self('after_cancel_fit')\n",
    "        finally:\n",
    "            self('after_fit')\n",
    "            self.remove_cbs(cbs)\n",
    "            self._end_cleanup()\n",
    "\n",
    "    def fit_one_cycle(self, epochs, lr_max=None, div=25., div_final=1e5, pct_start=0.25, wd=None,\n",
    "                      moms=None, cbs=None, reset_opt=False):\n",
    "        lr = lr_max\n",
    "        if lr is None:\n",
    "            lr = self.lr\n",
    "        if reset_opt or not self.opt:\n",
    "            self.create_opt()\n",
    "        set_hyper(self.opt, 'lr', lr)\n",
    "        lr_max = np.array([p['lr'] for p in self.opt.param_groups])\n",
    "        scheds = {\n",
    "            'lr': combined_cos(pct_start, lr_max/div, lr_max, lr_max/div_final),\n",
    "            'momentum': combined_cos(pct_start, *(self.moms if moms is None else moms))\n",
    "        }\n",
    "        self.fit(epochs, cbs=[ParamScheduler(scheds)] + listify(cbs), reset_opt=reset_opt, wd=wd)\n",
    "\n",
    "    def lr_find(self, start_lr=1e-7, end_lr=10, n_iters=100, stop_div=True,\n",
    "                show_plot=True, suggestions=True):\n",
    "        epochs = n_iters // len(self.data.train_dl) + 1\n",
    "        print(n_iters)\n",
    "        print(len(self.data.train_dl))\n",
    "        print(epochs)\n",
    "        cb = LRFinder(start_lr=start_lr, end_lr=end_lr, n_iters=n_iters, stop_div=stop_div)\n",
    "        self.fit(epochs, cbs=cb)\n",
    "        if show_plot:\n",
    "            self.recorder.plot_lr_find()\n",
    "        if suggestions:\n",
    "            lrs, losses = tensor(self.recorder.lrs[n_iters//10:-5]), tensor(self.recorder.losses[n_iters//10:-5])\n",
    "            if len(losses) == 0:\n",
    "                return\n",
    "            lr_min = lrs[losses.argmin()].item()\n",
    "            grads = (losses[1:] - losses[:-1]) / (lrs[1:].log() - lrs[:-1].log())\n",
    "            lr_steep = lrs[grads.argmin()].item()\n",
    "            SuggestedLRs = collections.namedtuple('SuggestedLRs', ['lr_min', 'lr_steep'])\n",
    "            return SuggestedLRs(lr_min/10, lr_steep)\n",
    "\n",
    "    def __call__(self, cb_name):\n",
    "        res = False\n",
    "        assert cb_name in self.ALL_CBS\n",
    "        for cb in sorted(self.cbs, key=lambda x: x._order):\n",
    "            res = cb(cb_name) and res\n",
    "        return res\n",
    "\n",
    "    def save(self, file, with_opt=True, prickle_proptocol=2):\n",
    "        self.model_dir.mkdir(parents=True, exist_ok=True)\n",
    "        file = self.model_dir / (file+'.pth')\n",
    "        if self.opt is None:\n",
    "            with_opt = False\n",
    "        state = self.model.state_dict()\n",
    "        if with_opt:\n",
    "            state = {\n",
    "                'model': state,\n",
    "                'opt': self.opt.state_dict()\n",
    "            }\n",
    "        torch.save(state, file, pickle_protocol=prickle_proptocol)\n",
    "\n",
    "    def load(self, file, with_opt=False, strict=True):\n",
    "        if self.opt is None:\n",
    "            self.create_opt()\n",
    "        file = self.model_dir / (file+'.pth')\n",
    "        state = torch.load(file)\n",
    "        hasopt = set(state) == {'model', 'opt'}\n",
    "        model_state = state['model'] if hasopt else state\n",
    "        self.model.load_state_dict(model_state, strict=strict)\n",
    "        if hasopt and with_opt:\n",
    "            try:\n",
    "                self.opt.load_state_dict(state['opt'])\n",
    "            except:\n",
    "                if with_opt:\n",
    "                    print('[ERROR] Could not load optimizer state.')\n",
    "        elif with_opt:\n",
    "            print('[WARN] Saved file doenst contain an optimizer state.')\n",
    "        return self"
   ]
  },
  {
   "cell_type": "code",
   "execution_count": 39,
   "metadata": {},
   "outputs": [],
   "source": [
    "def get_model(data, lr=0.5, nh=50):\n",
    "    m = data.train_ds[0][0].shape[0]\n",
    "    print(data.train_ds[0][0].shape)\n",
    "    model = nn.Sequential(nn.Conv2d(m,nh, 7, 2), nn.ReLU(),\n",
    "                          nn.Conv2d(nh,nh*2, 5, 2), nn.ReLU(),\n",
    "                          nn.Conv2d(nh*2,nh*2*2, 3, 2), nn.ReLU(),\n",
    "                          nn.Conv2d(nh*4,nh*8, 3, 2), nn.ReLU(),\n",
    "                          nn.AdaptiveAvgPool2d(1),\n",
    "                          nn.Flatten(), nn.Linear(400,data.c))\n",
    "    return model"
   ]
  },
  {
   "cell_type": "code",
   "execution_count": 40,
   "metadata": {
    "scrolled": true
   },
   "outputs": [],
   "source": [
    "from exp.nb_dataset import get_skin_databunch\n",
    "db = get_skin_databunch(size=None)"
   ]
  },
  {
   "cell_type": "code",
   "execution_count": 41,
   "metadata": {},
   "outputs": [],
   "source": [
    "def accuracy(out, yb): return (torch.argmax(out, dim=1)==yb).float().mean()"
   ]
  },
  {
   "cell_type": "code",
   "execution_count": 42,
   "metadata": {},
   "outputs": [],
   "source": [
    "from functools import partial"
   ]
  },
  {
   "cell_type": "code",
   "execution_count": 43,
   "metadata": {},
   "outputs": [
    {
     "name": "stdout",
     "output_type": "stream",
     "text": [
      "torch.Size([3, 450, 600])\n"
     ]
    }
   ],
   "source": [
    "mdl = get_model(db)"
   ]
  },
  {
   "cell_type": "code",
   "execution_count": 44,
   "metadata": {},
   "outputs": [],
   "source": [
    "import torchvision.models as models\n",
    "from torchvision import transforms as T\n",
    "\n",
    "resnet18 = models.resnet18(pretrained=True)\n",
    "normalize = T.Normalize(mean=[0.485, 0.456, 0.406],\n",
    "                        std=[0.229, 0.224, 0.225])\n",
    "transform = T.Compose([T.Resize(256), T.CenterCrop(224), T.ToTensor()])\n",
    "# transform = T.Compose([T.ToTensor()])"
   ]
  },
  {
   "cell_type": "code",
   "execution_count": 45,
   "metadata": {},
   "outputs": [],
   "source": [
    "num_ftrs = resnet18.fc.in_features\n",
    "resnet18.fc = nn.Linear(num_ftrs, 7)"
   ]
  },
  {
   "cell_type": "code",
   "execution_count": 46,
   "metadata": {},
   "outputs": [],
   "source": [
    "# device = torch.device('cuda',0); device\n",
    "# torch.cuda.set_device(device)\n",
    "db = get_skin_databunch(size=1024, transform=transform)"
   ]
  },
  {
   "cell_type": "code",
   "execution_count": 47,
   "metadata": {
    "scrolled": true
   },
   "outputs": [
    {
     "name": "stdout",
     "output_type": "stream",
     "text": [
      "100\n",
      "16\n",
      "7\n"
     ]
    },
    {
     "data": {
      "text/html": [
       "<table border=\"1\" class=\"dataframe\">\n",
       "  <thead>\n",
       "    <tr style=\"text-align: left;\">\n",
       "      <th>epoch</th>\n",
       "      <th>train_loss</th>\n",
       "      <th>train_accuracy</th>\n",
       "      <th>valid_loss</th>\n",
       "      <th>valid_accuracy</th>\n",
       "      <th>time</th>\n",
       "    </tr>\n",
       "  </thead>\n",
       "  <tbody>\n",
       "    <tr>\n",
       "      <td>0</td>\n",
       "      <td>2.165076</td>\n",
       "      <td>0.018555</td>\n",
       "      <td>None</td>\n",
       "      <td>None</td>\n",
       "      <td>01:31</td>\n",
       "    </tr>\n",
       "    <tr>\n",
       "      <td>1</td>\n",
       "      <td>2.153177</td>\n",
       "      <td>0.018555</td>\n",
       "      <td>None</td>\n",
       "      <td>None</td>\n",
       "      <td>01:33</td>\n",
       "    </tr>\n",
       "    <tr>\n",
       "      <td>2</td>\n",
       "      <td>2.000531</td>\n",
       "      <td>0.168945</td>\n",
       "      <td>None</td>\n",
       "      <td>None</td>\n",
       "      <td>01:31</td>\n",
       "    </tr>\n",
       "    <tr>\n",
       "      <td>3</td>\n",
       "      <td>1.401779</td>\n",
       "      <td>0.962891</td>\n",
       "      <td>None</td>\n",
       "      <td>None</td>\n",
       "      <td>01:33</td>\n",
       "    </tr>\n",
       "    <tr>\n",
       "      <td>4</td>\n",
       "      <td>0.948591</td>\n",
       "      <td>0.985352</td>\n",
       "      <td>None</td>\n",
       "      <td>None</td>\n",
       "      <td>01:33</td>\n",
       "    </tr>\n",
       "    <tr>\n",
       "      <td>5</td>\n",
       "      <td>2.717911</td>\n",
       "      <td>0.923828</td>\n",
       "      <td>None</td>\n",
       "      <td>None</td>\n",
       "      <td>01:31</td>\n",
       "    </tr>\n",
       "    <tr>\n",
       "      <td>6</td>\n",
       "      <td>2.493966</td>\n",
       "      <td>0.992188</td>\n",
       "      <td>00:23</td>\n",
       "    </tr>\n",
       "  </tbody>\n",
       "</table>"
      ],
      "text/plain": [
       "<IPython.core.display.HTML object>"
      ]
     },
     "metadata": {},
     "output_type": "display_data"
    },
    {
     "data": {
      "text/plain": [
       "SuggestedLRs(lr_min=0.09120108485221863, lr_steep=2.7542285919189453)"
      ]
     },
     "execution_count": 47,
     "metadata": {},
     "output_type": "execute_result"
    },
    {
     "data": {
      "image/png": "[encoded data removed]",
      "text/plain": [
       "<Figure size 432x288 with 1 Axes>"
      ]
     },
     "metadata": {
      "needs_background": "light"
     },
     "output_type": "display_data"
    }
   ],
   "source": [
    "learner = Learner(resnet18, db, F.cross_entropy, optim.SGD, metrics=[accuracy], cb_funcs=[Recorder, ProgressCallback])\n",
    "learner.lr_find()"
   ]
  },
  {
   "cell_type": "code",
   "execution_count": 59,
   "metadata": {},
   "outputs": [
    {
     "data": {
      "image/png": "[encoded data removed]",
      "text/plain": [
       "<Figure size 864x288 with 2 Axes>"
      ]
     },
     "metadata": {
      "needs_background": "light"
     },
     "output_type": "display_data"
    }
   ],
   "source": [
    "learner.recorder.plot_sched()"
   ]
  },
  {
   "cell_type": "code",
   "execution_count": 58,
   "metadata": {},
   "outputs": [
    {
     "data": {
      "text/plain": [
       "[<matplotlib.lines.Line2D at 0x22d00e60c08>]"
      ]
     },
     "execution_count": 58,
     "metadata": {},
     "output_type": "execute_result"
    },
    {
     "data": {
      "image/png": "[encoded data removed]",
      "text/plain": [
       "<Figure size 432x288 with 1 Axes>"
      ]
     },
     "metadata": {
      "needs_background": "light"
     },
     "output_type": "display_data"
    }
   ],
   "source": [
    "plt.plot(learner.recorder.lrs)"
   ]
  },
  {
   "cell_type": "code",
   "execution_count": 42,
   "metadata": {
    "collapsed": true,
    "jupyter": {
     "outputs_hidden": true
    }
   },
   "outputs": [
    {
     "ename": "AttributeError",
     "evalue": "'Learner' object has no attribute 'plot_lr'",
     "output_type": "error",
     "traceback": [
      "\u001b[1;31m---------------------------------------------------------------------------\u001b[0m",
      "\u001b[1;31mAttributeError\u001b[0m                            Traceback (most recent call last)",
      "\u001b[1;32m<ipython-input-42-dcb4225ef76c>\u001b[0m in \u001b[0;36m<module>\u001b[1;34m\u001b[0m\n\u001b[1;32m----> 1\u001b[1;33m \u001b[0mlearner\u001b[0m\u001b[1;33m.\u001b[0m\u001b[0mrecorder\u001b[0m\u001b[1;33m.\u001b[0m\u001b[0mplot_lr\u001b[0m\u001b[1;33m(\u001b[0m\u001b[1;33m)\u001b[0m\u001b[1;33m\u001b[0m\u001b[1;33m\u001b[0m\u001b[0m\n\u001b[0m",
      "\u001b[1;32mD:\\Workspace\\ML\\HAM10000\\ISIC2020\\exp\\nb_callbacks.py\u001b[0m in \u001b[0;36m__getattr__\u001b[1;34m(self, k)\u001b[0m\n\u001b[0;32m     56\u001b[0m     \u001b[1;32mdef\u001b[0m \u001b[0mset_learner\u001b[0m\u001b[1;33m(\u001b[0m\u001b[0mself\u001b[0m\u001b[1;33m,\u001b[0m \u001b[0mlearner\u001b[0m\u001b[1;33m)\u001b[0m\u001b[1;33m:\u001b[0m \u001b[0mself\u001b[0m\u001b[1;33m.\u001b[0m\u001b[0mlearner\u001b[0m \u001b[1;33m=\u001b[0m \u001b[0mlearner\u001b[0m\u001b[1;33m\u001b[0m\u001b[1;33m\u001b[0m\u001b[0m\n\u001b[0;32m     57\u001b[0m \u001b[1;33m\u001b[0m\u001b[0m\n\u001b[1;32m---> 58\u001b[1;33m     \u001b[1;32mdef\u001b[0m \u001b[0m__getattr__\u001b[0m\u001b[1;33m(\u001b[0m\u001b[0mself\u001b[0m\u001b[1;33m,\u001b[0m \u001b[0mk\u001b[0m\u001b[1;33m)\u001b[0m\u001b[1;33m:\u001b[0m \u001b[1;32mreturn\u001b[0m \u001b[0mgetattr\u001b[0m\u001b[1;33m(\u001b[0m\u001b[0mself\u001b[0m\u001b[1;33m.\u001b[0m\u001b[0mlearner\u001b[0m\u001b[1;33m,\u001b[0m \u001b[0mk\u001b[0m\u001b[1;33m)\u001b[0m\u001b[1;33m\u001b[0m\u001b[1;33m\u001b[0m\u001b[0m\n\u001b[0m\u001b[0;32m     59\u001b[0m \u001b[1;33m\u001b[0m\u001b[0m\n\u001b[0;32m     60\u001b[0m     \u001b[1;32mdef\u001b[0m \u001b[0m__call__\u001b[0m\u001b[1;33m(\u001b[0m\u001b[0mself\u001b[0m\u001b[1;33m,\u001b[0m \u001b[0mcb_name\u001b[0m\u001b[1;33m)\u001b[0m\u001b[1;33m:\u001b[0m\u001b[1;33m\u001b[0m\u001b[1;33m\u001b[0m\u001b[0m\n",
      "\u001b[1;31mAttributeError\u001b[0m: 'Learner' object has no attribute 'plot_lr'"
     ]
    }
   ],
   "source": [
    "learner.recorder.plot_lr()"
   ]
  },
  {
   "cell_type": "code",
   "execution_count": 43,
   "metadata": {},
   "outputs": [
    {
     "data": {
      "image/png": "[encoded data removed]",
      "text/plain": [
       "<Figure size 432x288 with 1 Axes>"
      ]
     },
     "metadata": {
      "needs_background": "light"
     },
     "output_type": "display_data"
    }
   ],
   "source": [
    "learner.recorder.plot_loss()"
   ]
  },
  {
   "cell_type": "code",
   "execution_count": 159,
   "metadata": {},
   "outputs": [
    {
     "name": "stdout",
     "output_type": "stream",
     "text": [
      "Converted learner.ipynb to exp\\nb_learner.py\n"
     ]
    }
   ],
   "source": [
    "!python notebook2script.py learner.ipynb"
   ]
  },
  {
   "cell_type": "code",
   "execution_count": null,
   "metadata": {},
   "outputs": [],
   "source": []
  }
 ],
 "metadata": {
  "kernelspec": {
   "display_name": "Python 3",
   "language": "python",
   "name": "python3"
  },
  "language_info": {
   "codemirror_mode": {
    "name": "ipython",
    "version": 3
   },
   "file_extension": ".py",
   "mimetype": "text/x-python",
   "name": "python",
   "nbconvert_exporter": "python",
   "pygments_lexer": "ipython3",
   "version": "3.7.7"
  }
 },
 "nbformat": 4,
 "nbformat_minor": 4
}
