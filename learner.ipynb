{
 "cells": [
  {
   "cell_type": "code",
   "execution_count": 5,
   "metadata": {},
   "outputs": [],
   "source": [
    "%load_ext autoreload\n",
    "%autoreload 2\n",
    "\n",
    "%matplotlib inline"
   ]
  },
  {
   "cell_type": "code",
   "execution_count": 6,
   "metadata": {},
   "outputs": [],
   "source": [
    "#export\n",
    "from pathlib import Path"
   ]
  },
  {
   "cell_type": "code",
   "execution_count": 7,
   "metadata": {},
   "outputs": [],
   "source": [
    "#export\n",
    "import torch\n",
    "from torch import tensor\n",
    "import torch.nn as nn\n",
    "import torch.optim as optim\n",
    "import torch.nn.functional as F"
   ]
  },
  {
   "cell_type": "code",
   "execution_count": 8,
   "metadata": {},
   "outputs": [],
   "source": [
    "#export\n",
    "from exp.nb_callbacks import *\n",
    "from exp.nb_utils import listify\n",
    "from exp.nb_metrics import Metric, AvgMetric"
   ]
  },
  {
   "cell_type": "code",
   "execution_count": 9,
   "metadata": {},
   "outputs": [],
   "source": [
    "#export\n",
    "def make_metric(m):\n",
    "    return m if isinstance(m, Metric) else AvgMetric(m)"
   ]
  },
  {
   "cell_type": "code",
   "execution_count": 54,
   "metadata": {},
   "outputs": [],
   "source": [
    "#export\n",
    "class Learner:\n",
    "    _default_cbs = [TrainEvalCallback]\n",
    "\n",
    "    ALL_CBS = {\n",
    "    'begin_fit', 'begin_epoch', 'begin_train', 'begin_batch',\n",
    "    'after_pred', 'after_loss', 'after_backward', 'after_step',\n",
    "    'after_batch', 'after_train', 'begin_validate', 'after_validate',\n",
    "    'after_epoch', 'after_fit', 'after_cancel_fit',\n",
    "    'after_cancel_batch', 'after_cancel_epoch', 'after_cancel_train', 'after_cancel_validate'}\n",
    "\n",
    "    def __init__(self, model, data, loss_func,\n",
    "                 opt_func, lr=1e-2, wd=None, moms=(0.95, 0.85, 0.95),\n",
    "                 metrics=None, cbs=None, cb_funcs=None,\n",
    "                 path=Path('.'), model_dir='models'):\n",
    "        self.model, self.data, self.loss_func = model, data, loss_func\n",
    "        self.opt_func, self.lr, self.metrics = opt_func, lr, metrics\n",
    "        self.wd, self.moms = wd, moms\n",
    "        self.path = path\n",
    "        self.model_dir = self.path / model_dir\n",
    "\n",
    "        self.opt = None\n",
    "        self.cbs = []\n",
    "        self.in_train = False\n",
    "        self.epoch = 0\n",
    "        self.epochs = 1\n",
    "        self.loss = tensor(0.)\n",
    "        self.logger = print\n",
    "\n",
    "        self.add_cbs([cb() for cb in self._default_cbs])\n",
    "        self.add_cbs(cbs)\n",
    "        self.add_cbs([cbf() for cbf in listify(cb_funcs)])\n",
    "\n",
    "    @property\n",
    "    def metrics(self): return self._metrics\n",
    "\n",
    "    @metrics.setter\n",
    "    def metrics(self, metrics):\n",
    "        self._metrics = list(map(make_metric, metrics))\n",
    "\n",
    "    def set_logger(self, logger):\n",
    "        self.logger = logger\n",
    "\n",
    "    def add_cb(self, cb):\n",
    "        cb.set_learner(self)\n",
    "        setattr(self, cb.name, cb)\n",
    "        self.cbs.append(cb)\n",
    "\n",
    "    def add_cbs(self, cbs):\n",
    "        for cb in listify(cbs): self.add_cb(cb)\n",
    "\n",
    "    def remove_cbs(self, cbs):\n",
    "        for cb in listify(cbs): self.cbs.remove(cb)\n",
    "\n",
    "    def get_params(self):\n",
    "        return self.model.parameters()\n",
    "\n",
    "    def _do_begin_fit(self, epochs):\n",
    "        self.epochs = epochs\n",
    "        self.loss = tensor(0.)\n",
    "        self('begin_fit')\n",
    "\n",
    "    def _do_epoch_train(self):\n",
    "        try:\n",
    "            self.dl = self.data.train_dl;                           self('begin_train')\n",
    "            self.all_batches()\n",
    "        except CancelTrainException:                                self('after_cancel_train')\n",
    "        finally:                                                    self('after_train')\n",
    "\n",
    "    def _do_epoch_validate(self):\n",
    "        try:\n",
    "            self.dl = self.data.valid_dl;                           self('begin_validate')\n",
    "            with torch.no_grad():\n",
    "                self.all_batches()\n",
    "        except CancelValidException:                                self('after_cancel_validate')\n",
    "        finally:                                                    self('after_validate')\n",
    "\n",
    "    def one_batch(self, i, xb, yb):\n",
    "        self.iter = i\n",
    "        try:\n",
    "            self.xb, self.yb = xb, yb;                              self('begin_batch')\n",
    "            self.pred = self.model(self.xb);                        self('after_pred')\n",
    "            self.loss = self.loss_func(self.pred, self.yb);         self('after_loss')\n",
    "            # If validate\n",
    "            if not self.in_train: return\n",
    "            self.loss.backward();                                   self('after_backward')\n",
    "            self.opt.step();                                        self('after_step')\n",
    "            self.opt.zero_grad();\n",
    "        except CancelBatchException:                                self('after_cancel_batch')\n",
    "        finally:                                                    self('after_batch')\n",
    "\n",
    "    def all_batches(self):\n",
    "        self.iters = len(self.dl)\n",
    "        for i, (xb, yb) in enumerate(self.dl):\n",
    "            self.one_batch(i, xb, yb);\n",
    "\n",
    "    def _end_cleanup(self):\n",
    "        self.dl, self.xb, self.yb, self.pred, self.loss = None, (None,), (None,), None, None\n",
    "\n",
    "    def fit(self, epochs, lr=None, wd=None, cbs=None, reset_opt=False):\n",
    "        self.add_cbs(cbs)\n",
    "\n",
    "        if lr is None:\n",
    "            lr = self.lr\n",
    "        if wd is None:\n",
    "            wd = self.wd\n",
    "        if reset_opt or not self.opt:\n",
    "            self.opt = self.opt_func(self.get_params(), lr=lr)\n",
    "\n",
    "        for p in self.opt.param_groups:\n",
    "            p['lr'] = lr\n",
    "            if wd is not None:\n",
    "                p['weight_decay'] = wd\n",
    "\n",
    "        try:\n",
    "            self._do_begin_fit(epochs)\n",
    "            for epoch in range(epochs):\n",
    "                try:\n",
    "                    self.epoch = epoch;                             self('begin_epoch')\n",
    "                    self._do_epoch_train()\n",
    "                    self._do_epoch_validate()\n",
    "                except CancelEpochException:                        self('after_cancel_epoch')\n",
    "                finally:                                            self('after_epoch')\n",
    "        except CancelFitException:                                  self('after_cancel_fit')\n",
    "        finally:\n",
    "            self('after_fit')\n",
    "            self.remove_cbs(cbs)\n",
    "            self._end_cleanup()\n",
    "\n",
    "    def __call__(self, cb_name):\n",
    "        res = False\n",
    "        assert cb_name in self.ALL_CBS\n",
    "        for cb in sorted(self.cbs, key=lambda x: x._order):\n",
    "            res = cb(cb_name) and res\n",
    "        return res\n",
    "\n",
    "    def save(self, file, with_opt=True, prickle_proptocol=2):\n",
    "        self.model_dir.mkdir(parents=True, exist_ok=True)\n",
    "        file = self.model_dir / (file+'.pth')\n",
    "        if self.opt is None:\n",
    "            with_opt = False\n",
    "        state = self.model.state_dict()\n",
    "        if with_opt:\n",
    "            state = {\n",
    "                'model': state,\n",
    "                'opt': self.opt.state_dict()\n",
    "            }\n",
    "        print(state.keys())\n",
    "        torch.save(state, file, pickle_protocol=prickle_proptocol)\n",
    "\n",
    "    def load(self, file, with_opt=False, strict=True):\n",
    "        if self.opt is None:\n",
    "            self.opt = self.opt_func(self.get_params(), lr=self.lr)\n",
    "        file = self.model_dir / (file+'.pth')\n",
    "        state = torch.load(file)\n",
    "        print(state.keys())\n",
    "        hasopt = set(state) == {'model', 'opt'}\n",
    "        model_state = state['model'] if hasopt else state\n",
    "        self.model.load_state_dict(model_state, strict=strict)\n",
    "        if hasopt and with_opt:\n",
    "            try:\n",
    "                self.opt.load_state_dict(state['opt'])\n",
    "            except:\n",
    "                if with_opt:\n",
    "                    print('[ERROR] Could not load optimizer state.')\n",
    "        elif with_opt:\n",
    "            print('[WARN] Saved file doenst contain an optimizer state.')\n",
    "        return self"
   ]
  },
  {
   "cell_type": "code",
   "execution_count": 36,
   "metadata": {},
   "outputs": [],
   "source": [
    "def get_model(data, lr=0.5, nh=50):\n",
    "    m = data.train_ds[0][0].shape[0]\n",
    "    print(data.train_ds[0][0].shape)\n",
    "    model = nn.Sequential(nn.Conv2d(m,nh, 7, 2), nn.ReLU(),\n",
    "                          nn.Conv2d(nh,nh*2, 5, 2), nn.ReLU(),\n",
    "                          nn.Conv2d(nh*2,nh*2*2, 3, 2), nn.ReLU(),\n",
    "                          nn.Conv2d(nh*4,nh*8, 3, 2), nn.ReLU(),\n",
    "                          nn.AdaptiveAvgPool2d(1),\n",
    "                          nn.Flatten(), nn.Linear(400,data.c))\n",
    "    return model"
   ]
  },
  {
   "cell_type": "code",
   "execution_count": 37,
   "metadata": {
    "scrolled": true
   },
   "outputs": [],
   "source": [
    "from exp.nb_dataset import get_skin_databunch\n",
    "db = get_skin_databunch(size=64*2)"
   ]
  },
  {
   "cell_type": "code",
   "execution_count": 38,
   "metadata": {},
   "outputs": [],
   "source": [
    "def accuracy(out, yb): return (torch.argmax(out, dim=1)==yb).float().mean()"
   ]
  },
  {
   "cell_type": "code",
   "execution_count": 39,
   "metadata": {},
   "outputs": [],
   "source": [
    "from functools import partial"
   ]
  },
  {
   "cell_type": "code",
   "execution_count": 40,
   "metadata": {},
   "outputs": [
    {
     "name": "stdout",
     "output_type": "stream",
     "text": [
      "torch.Size([3, 450, 600])\n"
     ]
    }
   ],
   "source": [
    "mdl = get_model(db)"
   ]
  },
  {
   "cell_type": "code",
   "execution_count": 41,
   "metadata": {},
   "outputs": [],
   "source": [
    "import torchvision.models as models\n",
    "from torchvision import transforms as T\n",
    "\n",
    "resnet18 = models.resnet18(pretrained=True)\n",
    "normalize = T.Normalize(mean=[0.485, 0.456, 0.406],\n",
    "                                 std=[0.229, 0.224, 0.225])\n",
    "transform = T.Compose([T.Resize(256), T.CenterCrop(224), T.ToTensor()])"
   ]
  },
  {
   "cell_type": "code",
   "execution_count": 42,
   "metadata": {},
   "outputs": [],
   "source": [
    "num_ftrs = resnet18.fc.in_features\n",
    "resnet18.fc = nn.Linear(num_ftrs, 7)"
   ]
  },
  {
   "cell_type": "code",
   "execution_count": 19,
   "metadata": {},
   "outputs": [
    {
     "data": {
      "text/plain": [
       "device(type='cuda', index=0)"
      ]
     },
     "execution_count": 19,
     "metadata": {},
     "output_type": "execute_result"
    }
   ],
   "source": [
    "# Somewhat more flexible way\n",
    "device = torch.device('cuda',0); device"
   ]
  },
  {
   "cell_type": "code",
   "execution_count": 21,
   "metadata": {
    "collapsed": true,
    "jupyter": {
     "outputs_hidden": true
    }
   },
   "outputs": [
    {
     "ename": "AttributeError",
     "evalue": "module 'torch._C' has no attribute '_cuda_setDevice'",
     "output_type": "error",
     "traceback": [
      "\u001b[1;31m---------------------------------------------------------------------------\u001b[0m",
      "\u001b[1;31mAttributeError\u001b[0m                            Traceback (most recent call last)",
      "\u001b[1;32m<ipython-input-21-92e7601a44e3>\u001b[0m in \u001b[0;36m<module>\u001b[1;34m\u001b[0m\n\u001b[1;32m----> 1\u001b[1;33m \u001b[0mtorch\u001b[0m\u001b[1;33m.\u001b[0m\u001b[0mcuda\u001b[0m\u001b[1;33m.\u001b[0m\u001b[0mset_device\u001b[0m\u001b[1;33m(\u001b[0m\u001b[0mdevice\u001b[0m\u001b[1;33m)\u001b[0m\u001b[1;33m\u001b[0m\u001b[1;33m\u001b[0m\u001b[0m\n\u001b[0m",
      "\u001b[1;32m~\\miniconda3\\envs\\devtorch\\lib\\site-packages\\torch\\cuda\\__init__.py\u001b[0m in \u001b[0;36mset_device\u001b[1;34m(device)\u001b[0m\n\u001b[0;32m    279\u001b[0m     \u001b[0mdevice\u001b[0m \u001b[1;33m=\u001b[0m \u001b[0m_get_device_index\u001b[0m\u001b[1;33m(\u001b[0m\u001b[0mdevice\u001b[0m\u001b[1;33m)\u001b[0m\u001b[1;33m\u001b[0m\u001b[1;33m\u001b[0m\u001b[0m\n\u001b[0;32m    280\u001b[0m     \u001b[1;32mif\u001b[0m \u001b[0mdevice\u001b[0m \u001b[1;33m>=\u001b[0m \u001b[1;36m0\u001b[0m\u001b[1;33m:\u001b[0m\u001b[1;33m\u001b[0m\u001b[1;33m\u001b[0m\u001b[0m\n\u001b[1;32m--> 281\u001b[1;33m         \u001b[0mtorch\u001b[0m\u001b[1;33m.\u001b[0m\u001b[0m_C\u001b[0m\u001b[1;33m.\u001b[0m\u001b[0m_cuda_setDevice\u001b[0m\u001b[1;33m(\u001b[0m\u001b[0mdevice\u001b[0m\u001b[1;33m)\u001b[0m\u001b[1;33m\u001b[0m\u001b[1;33m\u001b[0m\u001b[0m\n\u001b[0m\u001b[0;32m    282\u001b[0m \u001b[1;33m\u001b[0m\u001b[0m\n\u001b[0;32m    283\u001b[0m \u001b[1;33m\u001b[0m\u001b[0m\n",
      "\u001b[1;31mAttributeError\u001b[0m: module 'torch._C' has no attribute '_cuda_setDevice'"
     ]
    }
   ],
   "source": [
    "torch.cuda.set_device(device)"
   ]
  },
  {
   "cell_type": "code",
   "execution_count": 23,
   "metadata": {},
   "outputs": [],
   "source": [
    "db = get_skin_databunch(size=None)"
   ]
  },
  {
   "cell_type": "code",
   "execution_count": 64,
   "metadata": {
    "scrolled": true
   },
   "outputs": [
    {
     "data": {
      "text/html": [
       "<table border=\"1\" class=\"dataframe\">\n",
       "  <thead>\n",
       "    <tr style=\"text-align: left;\">\n",
       "      <th>epoch</th>\n",
       "      <th>train_loss</th>\n",
       "      <th>train_accuracy</th>\n",
       "      <th>valid_loss</th>\n",
       "      <th>valid_accuracy</th>\n",
       "      <th>time</th>\n",
       "    </tr>\n",
       "  </thead>\n",
       "  <tbody>\n",
       "    <tr>\n",
       "      <td>0</td>\n",
       "      <td>0.877438</td>\n",
       "      <td>0.507812</td>\n",
       "      <td>360542.812500</td>\n",
       "      <td>0.664062</td>\n",
       "      <td>01:11</td>\n",
       "    </tr>\n",
       "  </tbody>\n",
       "</table>"
      ],
      "text/plain": [
       "<IPython.core.display.HTML object>"
      ]
     },
     "metadata": {},
     "output_type": "display_data"
    }
   ],
   "source": [
    "learner = Learner(resnet18, db, F.cross_entropy, optim.Adam, metrics=[accuracy], cb_funcs=[Recorder, ProgressCallback])\n",
    "learner.fit(1)"
   ]
  },
  {
   "cell_type": "code",
   "execution_count": 18,
   "metadata": {},
   "outputs": [
    {
     "data": {
      "image/png": "[encoded data removed]",
      "text/plain": [
       "<Figure size 432x288 with 1 Axes>"
      ]
     },
     "metadata": {
      "needs_background": "light"
     },
     "output_type": "display_data"
    }
   ],
   "source": [
    "learner.recorder.plot()"
   ]
  },
  {
   "cell_type": "code",
   "execution_count": 29,
   "metadata": {},
   "outputs": [
    {
     "data": {
      "text/plain": [
       "[<matplotlib.lines.Line2D at 0x7f9ad5a7b3c8>]"
      ]
     },
     "execution_count": 29,
     "metadata": {},
     "output_type": "execute_result"
    },
    {
     "data": {
      "image/png": "[encoded data removed]",
      "text/plain": [
       "<Figure size 432x288 with 1 Axes>"
      ]
     },
     "metadata": {
      "needs_background": "light"
     },
     "output_type": "display_data"
    }
   ],
   "source": [
    "plt.plot(learner.recorder.lrs)"
   ]
  },
  {
   "cell_type": "code",
   "execution_count": 20,
   "metadata": {},
   "outputs": [
    {
     "data": {
      "image/png": "[encoded data removed]",
      "text/plain": [
       "<Figure size 432x288 with 1 Axes>"
      ]
     },
     "metadata": {
      "needs_background": "light"
     },
     "output_type": "display_data"
    }
   ],
   "source": [
    "learner.recorder.plot_lr()"
   ]
  },
  {
   "cell_type": "code",
   "execution_count": 88,
   "metadata": {},
   "outputs": [
    {
     "name": "stdout",
     "output_type": "stream",
     "text": [
      "Converted learner.ipynb to exp\\nb_learner.py\n"
     ]
    }
   ],
   "source": [
    "!python notebook2script.py learner.ipynb"
   ]
  },
  {
   "cell_type": "code",
   "execution_count": 80,
   "metadata": {},
   "outputs": [
    {
     "data": {
      "image/png": "[encoded data removed]",
      "text/plain": [
       "<Figure size 432x288 with 1 Axes>"
      ]
     },
     "metadata": {
      "needs_background": "light"
     },
     "output_type": "display_data"
    }
   ],
   "source": [
    "learner.recorder.plot_loss()"
   ]
  },
  {
   "cell_type": "code",
   "execution_count": 76,
   "metadata": {},
   "outputs": [
    {
     "data": {
      "text/plain": [
       "[[0.08335184305906296, 0.9921875, 15322657.0, 0.6640625],\n",
       " [0.08351955562829971, 0.9921875, 2747838.5, 0.6640625]]"
      ]
     },
     "execution_count": 76,
     "metadata": {},
     "output_type": "execute_result"
    }
   ],
   "source": [
    "learner.recorder.values"
   ]
  },
  {
   "cell_type": "code",
   "execution_count": 93,
   "metadata": {},
   "outputs": [
    {
     "data": {
      "text/plain": [
       "2"
      ]
     },
     "execution_count": 93,
     "metadata": {},
     "output_type": "execute_result"
    }
   ],
   "source": [
    "idx = (np.array(learner.recorder.iters)<5).sum()\n",
    "idx"
   ]
  },
  {
   "cell_type": "code",
   "execution_count": 79,
   "metadata": {},
   "outputs": [
    {
     "data": {
      "text/plain": [
       "[[0.08335184305906296, 0.9921875, 15322657.0, 0.6640625],\n",
       " [0.08351955562829971, 0.9921875, 2747838.5, 0.6640625]]"
      ]
     },
     "execution_count": 79,
     "metadata": {},
     "output_type": "execute_result"
    }
   ],
   "source": [
    "learner.recorder.values"
   ]
  },
  {
   "cell_type": "code",
   "execution_count": null,
   "metadata": {},
   "outputs": [],
   "source": []
  }
 ],
 "metadata": {
  "kernelspec": {
   "display_name": "Python 3",
   "language": "python",
   "name": "python3"
  },
  "language_info": {
   "codemirror_mode": {
    "name": "ipython",
    "version": 3
   },
   "file_extension": ".py",
   "mimetype": "text/x-python",
   "name": "python",
   "nbconvert_exporter": "python",
   "pygments_lexer": "ipython3",
   "version": "3.7.7"
  }
 },
 "nbformat": 4,
 "nbformat_minor": 4
}
