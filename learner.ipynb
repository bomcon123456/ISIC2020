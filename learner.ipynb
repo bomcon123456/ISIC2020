{
 "cells": [
  {
   "cell_type": "code",
   "execution_count": 1,
   "metadata": {},
   "outputs": [],
   "source": [
    "%load_ext autoreload\n",
    "%autoreload 2\n",
    "\n",
    "%matplotlib inline"
   ]
  },
  {
   "cell_type": "code",
   "execution_count": 2,
   "metadata": {},
   "outputs": [],
   "source": [
    "import torch\n",
    "from torch import tensor\n",
    "import torch.nn as nn\n",
    "import torch.optim as optim\n",
    "import torch.nn.functional as F"
   ]
  },
  {
   "cell_type": "code",
   "execution_count": 3,
   "metadata": {},
   "outputs": [],
   "source": [
    "from exp.nb_callbacks import *\n",
    "from exp.nb_utils import listify"
   ]
  },
  {
   "cell_type": "code",
   "execution_count": 55,
   "metadata": {},
   "outputs": [],
   "source": [
    "#export\n",
    "class Learner:\n",
    "    _default_cbs = [TrainEvalCallback]\n",
    "\n",
    "    ALL_CBS = {\n",
    "    'begin_fit', 'begin_epoch', 'begin_batch', 'begin_validate',\n",
    "    'after_pred', 'after_loss', 'after_backward', 'after_step',\n",
    "    'after_batch', 'after_epoch', 'after_fit',\n",
    "    'after_cancel_batch', 'after_cancel_epoch', 'after_cancel_train'}\n",
    "\n",
    "    def __init__(self, model, data, loss_func, opt_func, lr=1e-2, cbs=None, cb_funcs=None):\n",
    "        self.model, self.data, self.loss_func, self.opt_func, self.lr = model, data, loss_func, opt_func, lr\n",
    "\n",
    "        self.opt = None\n",
    "        self.cbs = []\n",
    "        self.in_train = False\n",
    "        self.logger = print\n",
    "\n",
    "        self.add_cbs([cb() for cb in self._default_cbs])\n",
    "        self.add_cbs(cbs)\n",
    "        self.add_cbs([cbf() for cbf in listify(cb_funcs)])\n",
    "\n",
    "    def set_logger(self, logger):\n",
    "        self.logger = logger\n",
    "\n",
    "    def add_cb(self, cb):\n",
    "        cb.set_learner(self)\n",
    "        setattr(self, cb.name, cb)\n",
    "        self.cbs.append(cb)\n",
    "\n",
    "    def add_cbs(self, cbs):\n",
    "        for cb in listify(cbs): self.add_cb(cb)\n",
    "\n",
    "    def remove_cbs(self, cbs):\n",
    "        for cb in listify(cbs): self.cbs.remove(cb)\n",
    "\n",
    "    def get_params(self):\n",
    "        return self.model.parameters()\n",
    "\n",
    "    def _do_begin_fit(self, epochs):\n",
    "        self.epochs = epochs\n",
    "        self.loss = tensor(0.)\n",
    "        self('begin_fit')\n",
    "\n",
    "    def _do_begin_epoch(self, epoch):\n",
    "        self.epoch = epoch\n",
    "        self.dl = self.data.train_dl\n",
    "        return self('begin_epoch')\n",
    "\n",
    "    def one_batch(self, i, xb, yb):\n",
    "        try:\n",
    "            self.iter = i\n",
    "            self.xb, self.yb = xb, yb;                              self('begin_batch')\n",
    "            self.pred = self.model(self.xb);                        self('after_pred')\n",
    "            self.loss = self.loss_func(self.pred, self.yb);         self('after_loss')\n",
    "            # If validate\n",
    "            if not self.in_train: return\n",
    "            self.loss.backward();                                   self('after_backward')\n",
    "            self.opt.step();                                        self('after_step')\n",
    "            self.opt.zero_grad();\n",
    "        except CancelBatchException:                                self('after_cancel_batch')\n",
    "        finally:                                                    self('after_batch')\n",
    "\n",
    "    def all_batches(self):\n",
    "        self.iters = len(self.dl)\n",
    "        try:\n",
    "            for i, (xb, yb) in enumerate(self.dl):\n",
    "                self.one_batch(i, xb, yb);\n",
    "        except CancelEpochException: self('after_cancel_epoch')\n",
    "\n",
    "    def _end_cleanup(self):\n",
    "        self.dl, self.xb, self.yb, self.pred, self.loss = None, (None,), (None,), None, None\n",
    "\n",
    "    def fit(self, epochs, cbs=None, reset_opt=False):\n",
    "        self.add_cbs(cbs)\n",
    "        if reset_opt or not self.opt:\n",
    "            self.opt = self.opt_func(self.get_params(), lr=self.lr)\n",
    "\n",
    "        try:\n",
    "            self._do_begin_fit(epochs)\n",
    "            for epoch in range(epochs):\n",
    "                if not self._do_begin_epoch(epoch):\n",
    "                    self.all_batches()\n",
    "\n",
    "                with torch.no_grad():\n",
    "                    self.dl = self.data.valid_dl\n",
    "                    if not self('begin_validate'): self.all_batches()\n",
    "                self('after_epoch')\n",
    "\n",
    "        except: CancelTrainException: self('after_cancel_train')\n",
    "        finally:\n",
    "            self('after_fit')\n",
    "            self.remove_cbs(cbs)\n",
    "            self._end_cleanup()\n",
    "\n",
    "    def __call__(self, cb_name):\n",
    "        res = False\n",
    "        assert cb_name in self.ALL_CBS\n",
    "        for cb in sorted(self.cbs, key=lambda x: x._order):\n",
    "            res = cb(cb_name) and res\n",
    "        return res"
   ]
  },
  {
   "cell_type": "code",
   "execution_count": 56,
   "metadata": {},
   "outputs": [],
   "source": [
    "def get_model(data, lr=0.5, nh=50):\n",
    "    m = data.train_ds[0][0].shape[0]\n",
    "    print(data.train_ds[0][0].shape)\n",
    "    model = nn.Sequential(nn.Conv2d(m,nh, 7, 2), nn.ReLU(),\n",
    "                          nn.Conv2d(nh,nh*2, 5, 2), nn.ReLU(),\n",
    "                          nn.Conv2d(nh*2,nh*2*2, 3, 2), nn.ReLU(),\n",
    "                          nn.Conv2d(nh*4,nh*8, 3, 2), nn.ReLU(),\n",
    "                          nn.AdaptiveAvgPool2d(1),\n",
    "                          nn.Flatten(), nn.Linear(400,data.c))\n",
    "    return model"
   ]
  },
  {
   "cell_type": "code",
   "execution_count": 79,
   "metadata": {
    "scrolled": true
   },
   "outputs": [],
   "source": [
    "from exp.nb_dataset import get_skin_databunch\n",
    "db = get_skin_databunch(size=64*2)"
   ]
  },
  {
   "cell_type": "code",
   "execution_count": 80,
   "metadata": {},
   "outputs": [],
   "source": [
    "def accuracy(out, yb): return (torch.argmax(out, dim=1)==yb).float().mean()"
   ]
  },
  {
   "cell_type": "code",
   "execution_count": 81,
   "metadata": {},
   "outputs": [],
   "source": [
    "from functools import partial"
   ]
  },
  {
   "cell_type": "code",
   "execution_count": 82,
   "metadata": {},
   "outputs": [
    {
     "name": "stdout",
     "output_type": "stream",
     "text": [
      "torch.Size([3, 450, 600])\n"
     ]
    }
   ],
   "source": [
    "mdl = get_model(db)"
   ]
  },
  {
   "cell_type": "code",
   "execution_count": 83,
   "metadata": {},
   "outputs": [],
   "source": [
    "learner = Learner(mdl, db, F.cross_entropy, optim.Adam, cb_funcs=[partial(AvgStatsCallback,accuracy),Recorder, ProgressCallback])"
   ]
  },
  {
   "cell_type": "code",
   "execution_count": 84,
   "metadata": {},
   "outputs": [
    {
     "data": {
      "text/html": [
       "<table border=\"1\" class=\"dataframe\">\n",
       "  <thead>\n",
       "    <tr style=\"text-align: left;\">\n",
       "      <th>epoch</th>\n",
       "      <th>train_loss</th>\n",
       "      <th>train_accuracy</th>\n",
       "      <th>valid_loss</th>\n",
       "      <th>valid_accuracy</th>\n",
       "      <th>time</th>\n",
       "    </tr>\n",
       "  </thead>\n",
       "  <tbody>\n",
       "    <tr>\n",
       "      <td>0</td>\n",
       "      <td>0.968716</td>\n",
       "      <td>0.500000</td>\n",
       "      <td>1256.333252</td>\n",
       "      <td>0.664062</td>\n",
       "      <td>00:33</td>\n",
       "    </tr>\n",
       "    <tr>\n",
       "      <td>1</td>\n",
       "      <td>31.723415</td>\n",
       "      <td>0.992188</td>\n",
       "      <td>6.444243</td>\n",
       "      <td>0.007812</td>\n",
       "      <td>00:31</td>\n",
       "    </tr>\n",
       "    <tr>\n",
       "      <td>2</td>\n",
       "      <td>3.334949</td>\n",
       "      <td>0.507812</td>\n",
       "      <td>1.594475</td>\n",
       "      <td>0.664062</td>\n",
       "      <td>00:30</td>\n",
       "    </tr>\n",
       "    <tr>\n",
       "      <td>3</td>\n",
       "      <td>1.097073</td>\n",
       "      <td>0.992188</td>\n",
       "      <td>1.984031</td>\n",
       "      <td>0.664062</td>\n",
       "      <td>00:30</td>\n",
       "    </tr>\n",
       "    <tr>\n",
       "      <td>4</td>\n",
       "      <td>0.074518</td>\n",
       "      <td>0.992188</td>\n",
       "      <td>496.174591</td>\n",
       "      <td>0.664062</td>\n",
       "      <td>00:30</td>\n",
       "    </tr>\n",
       "    <tr>\n",
       "      <td>5</td>\n",
       "      <td>9.326594</td>\n",
       "      <td>0.992188</td>\n",
       "      <td>113.130402</td>\n",
       "      <td>0.664062</td>\n",
       "      <td>00:31</td>\n",
       "    </tr>\n",
       "    <tr>\n",
       "      <td>6</td>\n",
       "      <td>1.179491</td>\n",
       "      <td>0.992188</td>\n",
       "      <td>19.916534</td>\n",
       "      <td>0.007812</td>\n",
       "      <td>00:30</td>\n",
       "    </tr>\n",
       "    <tr>\n",
       "      <td>7</td>\n",
       "      <td>1.479083</td>\n",
       "      <td>0.507812</td>\n",
       "      <td>27.773722</td>\n",
       "      <td>0.664062</td>\n",
       "      <td>00:31</td>\n",
       "    </tr>\n",
       "    <tr>\n",
       "      <td>8</td>\n",
       "      <td>0.164521</td>\n",
       "      <td>0.992188</td>\n",
       "      <td>4.861238</td>\n",
       "      <td>0.664062</td>\n",
       "      <td>00:31</td>\n",
       "    </tr>\n",
       "    <tr>\n",
       "      <td>9</td>\n",
       "      <td>0.069687</td>\n",
       "      <td>0.992188</td>\n",
       "      <td>7.558918</td>\n",
       "      <td>0.664062</td>\n",
       "      <td>00:31</td>\n",
       "    </tr>\n",
       "  </tbody>\n",
       "</table>"
      ],
      "text/plain": [
       "<IPython.core.display.HTML object>"
      ]
     },
     "metadata": {},
     "output_type": "display_data"
    },
    {
     "name": "stdout",
     "output_type": "stream",
     "text": [
      "['0', '0.968716', '0.500000', '1256.333252', '0.664062', '00:33']\n",
      "['1', '31.723415', '0.992188', '6.444243', '0.007812', '00:31']\n",
      "['2', '3.334949', '0.507812', '1.594475', '0.664062', '00:30']\n",
      "['3', '1.097073', '0.992188', '1.984031', '0.664062', '00:30']\n",
      "['4', '0.074518', '0.992188', '496.174591', '0.664062', '00:30']\n",
      "['5', '9.326594', '0.992188', '113.130402', '0.664062', '00:31']\n",
      "['6', '1.179491', '0.992188', '19.916534', '0.007812', '00:30']\n",
      "['7', '1.479083', '0.507812', '27.773722', '0.664062', '00:31']\n",
      "['8', '0.164521', '0.992188', '4.861238', '0.664062', '00:31']\n",
      "['9', '0.069687', '0.992188', '7.558918', '0.664062', '00:31']\n"
     ]
    }
   ],
   "source": [
    "learner.fit(10)"
   ]
  },
  {
   "cell_type": "code",
   "execution_count": 85,
   "metadata": {},
   "outputs": [
    {
     "data": {
      "image/png": "[encoded data removed]",
      "text/plain": [
       "<Figure size 432x288 with 1 Axes>"
      ]
     },
     "metadata": {
      "needs_background": "light"
     },
     "output_type": "display_data"
    }
   ],
   "source": [
    "learner.recorder.plot()"
   ]
  },
  {
   "cell_type": "code",
   "execution_count": 86,
   "metadata": {},
   "outputs": [
    {
     "data": {
      "image/png": "[encoded data removed]",
      "text/plain": [
       "<Figure size 432x288 with 1 Axes>"
      ]
     },
     "metadata": {
      "needs_background": "light"
     },
     "output_type": "display_data"
    }
   ],
   "source": [
    "learner.recorder.plot_loss()"
   ]
  },
  {
   "cell_type": "code",
   "execution_count": 87,
   "metadata": {},
   "outputs": [
    {
     "data": {
      "image/png": "[encoded data removed]",
      "text/plain": [
       "<Figure size 432x288 with 1 Axes>"
      ]
     },
     "metadata": {
      "needs_background": "light"
     },
     "output_type": "display_data"
    }
   ],
   "source": [
    "learner.recorder.plot_lr()"
   ]
  },
  {
   "cell_type": "code",
   "execution_count": 88,
   "metadata": {},
   "outputs": [
    {
     "name": "stdout",
     "output_type": "stream",
     "text": [
      "Converted learner.ipynb to exp\\nb_learner.py\n"
     ]
    }
   ],
   "source": [
    "!python notebook2script.py learner.ipynb"
   ]
  },
  {
   "cell_type": "code",
   "execution_count": null,
   "metadata": {},
   "outputs": [],
   "source": []
  }
 ],
 "metadata": {
  "kernelspec": {
   "display_name": "Python 3",
   "language": "python",
   "name": "python3"
  },
  "language_info": {
   "codemirror_mode": {
    "name": "ipython",
    "version": 3
   },
   "file_extension": ".py",
   "mimetype": "text/x-python",
   "name": "python",
   "nbconvert_exporter": "python",
   "pygments_lexer": "ipython3",
   "version": "3.7.7"
  }
 },
 "nbformat": 4,
 "nbformat_minor": 4
}
