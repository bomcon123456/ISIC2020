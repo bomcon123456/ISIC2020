{
 "cells": [
  {
   "cell_type": "code",
   "execution_count": 4,
   "metadata": {},
   "outputs": [],
   "source": [
    "#export\n",
    "from functools import wraps\n",
    "import math\n",
    "\n",
    "import torch\n",
    "from torch import tensor"
   ]
  },
  {
   "cell_type": "code",
   "execution_count": 5,
   "metadata": {},
   "outputs": [],
   "source": [
    "#export\n",
    "class _Annealer:\n",
    "    def __init__(self, f, start, end):\n",
    "        self.f, self.start, self.end = f, start, end\n",
    "\n",
    "    def __call__(self, pos):\n",
    "        return self.f(self.start, self.end, pos)"
   ]
  },
  {
   "cell_type": "code",
   "execution_count": 6,
   "metadata": {},
   "outputs": [],
   "source": [
    "#export\n",
    "def annealer(f):\n",
    "    @wraps(f)\n",
    "    def _inner(start, end):\n",
    "        return _Annealer(f, start, end)\n",
    "    return _inner"
   ]
  },
  {
   "cell_type": "code",
   "execution_count": 10,
   "metadata": {},
   "outputs": [],
   "source": [
    "#export\n",
    "def sched_lin(start, end, pos):\n",
    "    return start + pos*(end-start)\n",
    "\n",
    "\n",
    "def sched_cos(start, end, pos):\n",
    "    return start + (1 + math.cos(math.pi*(1-pos))) * (end-start) / 2\n",
    "\n",
    "\n",
    "def sched_no(start, end, pos):\n",
    "    return start\n",
    "\n",
    "\n",
    "def sched_exp(start, end, pos):\n",
    "    return start * (end/start) ** pos\n",
    "\n",
    "\n",
    "def SchedLin(start, end):\n",
    "    return _Annealer(sched_lin, start, end)\n",
    "\n",
    "\n",
    "def SchedCos(start, end):\n",
    "    return _Annealer(sched_cos, start, end)\n",
    "\n",
    "\n",
    "def SchedNo(start, end):\n",
    "    return _Annealer(sched_no,  start, end)\n",
    "\n",
    "\n",
    "def SchedExp(start, end):\n",
    "    return _Annealer(sched_exp, start, end)\n",
    "\n",
    "\n",
    "def SchedPoly(start, end, power):\n",
    "    def _inner(pos): return start + (end - start) * pos ** power\n",
    "    return _inner"
   ]
  },
  {
   "cell_type": "code",
   "execution_count": 11,
   "metadata": {},
   "outputs": [],
   "source": [
    "#export\n",
    "def combine_scheds(pcts, scheds):\n",
    "    assert sum(pcts) == 1.\n",
    "    pcts = tensor([0] + pcts)\n",
    "    assert torch.all(pcts >= 0)\n",
    "    pcts = torch.cumsum(pcts, 0)\n",
    "\n",
    "    def _inner(pos):\n",
    "        if pos == 1.:\n",
    "            return scheds[-1](1.)\n",
    "        idx = (pos >= pcts).nonzero(as_tuple=False).max()\n",
    "        if idx == len(pcts) - 1:\n",
    "            return scheds[-1](pos)\n",
    "        actual_pos = (pos - pcts[idx]) / (pcts[idx+1] - pcts[idx])\n",
    "        return scheds[idx](actual_pos.item())\n",
    "    return _inner"
   ]
  },
  {
   "cell_type": "code",
   "execution_count": 12,
   "metadata": {},
   "outputs": [],
   "source": [
    "#export\n",
    "def combined_cos(pct, start, middle, end):\n",
    "    \"Return a scheduler with cosine annealing from `start`→`middle` & `middle`→`end`\"\n",
    "    return combine_scheds([pct,1-pct], [SchedCos(start, middle), SchedCos(middle, end)])"
   ]
  },
  {
   "cell_type": "code",
   "execution_count": 2,
   "metadata": {},
   "outputs": [
    {
     "name": "stdout",
     "output_type": "stream",
     "text": [
      "Converted schedules.ipynb to exp\\nb_schedules.py\n"
     ]
    }
   ],
   "source": [
    "!python notebook2script.py schedules.ipynb"
   ]
  },
  {
   "cell_type": "code",
   "execution_count": null,
   "metadata": {},
   "outputs": [],
   "source": []
  }
 ],
 "metadata": {
  "kernelspec": {
   "display_name": "Python 3",
   "language": "python",
   "name": "python3"
  },
  "language_info": {
   "codemirror_mode": {
    "name": "ipython",
    "version": 3
   },
   "file_extension": ".py",
   "mimetype": "text/x-python",
   "name": "python",
   "nbconvert_exporter": "python",
   "pygments_lexer": "ipython3",
   "version": "3.7.7"
  }
 },
 "nbformat": 4,
 "nbformat_minor": 4
}
