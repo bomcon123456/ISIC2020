{
 "cells": [
  {
   "cell_type": "code",
   "execution_count": 1,
   "metadata": {
    "ExecuteTime": {
     "end_time": "2020-07-30T07:22:07.860388Z",
     "start_time": "2020-07-30T07:22:07.855071Z"
    }
   },
   "outputs": [],
   "source": [
    "#export\n",
    "class AppConfig:\n",
    "    SEED = 8080\n",
    "    NUM_CLASSES = 7\n",
    "\n",
    "\n",
    "class PathConfig:\n",
    "    #     DATA_PATH = '/content/data'\n",
    "    #     IMAGE_PATH = '/content/data/images'\n",
    "    #     CSV_PATH = '/content/data/HAM10000_metadata.csv'\n",
    "\n",
    "    DATA_PATH = \"..\\data\"\n",
    "    IMAGE_PATH = \"..\\data\\images\"\n",
    "    CSV_PATH = \"..\\data\\HAM10000_metadata.csv\"\n",
    "\n",
    "\n",
    "class TrainConfig:\n",
    "    BATCH_SIZE = 64\n",
    "    EPOCHS = 100\n",
    "    LR = 1e-6"
   ]
  },
  {
   "cell_type": "code",
   "execution_count": 2,
   "metadata": {
    "ExecuteTime": {
     "end_time": "2020-07-30T08:06:18.610387Z",
     "start_time": "2020-07-30T08:06:03.479840Z"
    }
   },
   "outputs": [
    {
     "name": "stdout",
     "output_type": "stream",
     "text": [
      "Converted config.ipynb to exp\\nb_config.py\n"
     ]
    }
   ],
   "source": [
    "!python notebook2script.py config.ipynb"
   ]
  },
  {
   "cell_type": "code",
   "execution_count": null,
   "metadata": {},
   "outputs": [],
   "source": []
  }
 ],
 "metadata": {
  "kernelspec": {
   "display_name": "Python 3",
   "language": "python",
   "name": "python3"
  },
  "language_info": {
   "codemirror_mode": {
    "name": "ipython",
    "version": 3
   },
   "file_extension": ".py",
   "mimetype": "text/x-python",
   "name": "python",
   "nbconvert_exporter": "python",
   "pygments_lexer": "ipython3",
   "version": "3.7.7"
  }
 },
 "nbformat": 4,
 "nbformat_minor": 4
}
